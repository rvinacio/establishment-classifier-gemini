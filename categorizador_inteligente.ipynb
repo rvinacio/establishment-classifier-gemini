{
  "nbformat": 4,
  "nbformat_minor": 0,
  "metadata": {
    "colab": {
      "provenance": [],
      "authorship_tag": "ABX9TyOHrl97EMBWb6I1koMmkPwC",
      "include_colab_link": true
    },
    "kernelspec": {
      "name": "python3",
      "display_name": "Python 3"
    },
    "language_info": {
      "name": "python"
    }
  },
  "cells": [
    {
      "cell_type": "markdown",
      "metadata": {
        "id": "view-in-github",
        "colab_type": "text"
      },
      "source": [
        "<a href=\"https://colab.research.google.com/github/rvinacio/establishment-classifier-gemini/blob/main/categorizador_inteligente.ipynb\" target=\"_parent\"><img src=\"https://colab.research.google.com/assets/colab-badge.svg\" alt=\"Open In Colab\"/></a>"
      ]
    },
    {
      "cell_type": "code",
      "source": [
        "!pip install -q -U google-generativeai"
      ],
      "metadata": {
        "id": "Dl-zxbVTjzZy"
      },
      "execution_count": 1,
      "outputs": []
    },
    {
      "cell_type": "code",
      "source": [
        "# Importar as bibliotecas do google\n",
        "\n",
        "import google.generativeai as genai\n",
        "from google.colab import userdata\n",
        "from google.api_core import retry\n",
        "\n",
        "GOOGLE_API_KEY=userdata.get('key_standard')\n",
        "genai.configure(api_key=GOOGLE_API_KEY)"
      ],
      "metadata": {
        "id": "UQu18Cg5j8Qw"
      },
      "execution_count": 36,
      "outputs": []
    },
    {
      "cell_type": "code",
      "source": [
        "# Listar modelos disponíveis\n",
        "\n",
        "for m in genai.list_models():\n",
        "  if 'generateContent' in m.supported_generation_methods:\n",
        "    print(m.name)"
      ],
      "metadata": {
        "colab": {
          "base_uri": "https://localhost:8080/",
          "height": 142
        },
        "collapsed": true,
        "id": "_x1sKkvOkHqF",
        "outputId": "f121e220-22d8-4686-8ee5-4cf0ff09e50a"
      },
      "execution_count": 37,
      "outputs": [
        {
          "output_type": "stream",
          "name": "stdout",
          "text": [
            "models/gemini-1.0-pro\n",
            "models/gemini-1.0-pro-001\n",
            "models/gemini-1.0-pro-latest\n",
            "models/gemini-1.0-pro-vision-latest\n",
            "models/gemini-1.5-pro-latest\n",
            "models/gemini-pro\n",
            "models/gemini-pro-vision\n"
          ]
        }
      ]
    },
    {
      "cell_type": "code",
      "source": [
        "# Configurar níveis de \"criatividade\" do modelo\n",
        "generation_config = {\n",
        "  \"temperature\": 0.55,\n",
        "  \"top_p\": 1,\n",
        "  \"top_k\": 0,\n",
        "}"
      ],
      "metadata": {
        "id": "9HV1Rg_gkNeR"
      },
      "execution_count": 38,
      "outputs": []
    },
    {
      "cell_type": "code",
      "source": [
        "safety_settings = [\n",
        "  {\n",
        "    \"category\": \"HARM_CATEGORY_HARASSMENT\",\n",
        "    \"threshold\": \"BLOCK_MEDIUM_AND_ABOVE\"\n",
        "  },\n",
        "  {\n",
        "    \"category\": \"HARM_CATEGORY_HATE_SPEECH\",\n",
        "    \"threshold\": \"BLOCK_ONLY_HIGH\"\n",
        "  },\n",
        "  {\n",
        "    \"category\": \"HARM_CATEGORY_SEXUALLY_EXPLICIT\",\n",
        "    \"threshold\": \"BLOCK_NONE\"\n",
        "  },\n",
        "  {\n",
        "    \"category\": \"HARM_CATEGORY_DANGEROUS_CONTENT\",\n",
        "    \"threshold\": \"BLOCK_ONLY_HIGH\"\n",
        "  },\n",
        "]"
      ],
      "metadata": {
        "id": "sZqRm4t7kfID"
      },
      "execution_count": 39,
      "outputs": []
    },
    {
      "cell_type": "code",
      "source": [
        "model = genai.GenerativeModel(model_name=\"gemini-1.0-pro\",\n",
        "                              generation_config=generation_config,\n",
        "                              safety_settings=safety_settings)\n"
      ],
      "metadata": {
        "id": "y2JYOIMrlRwu"
      },
      "execution_count": 40,
      "outputs": []
    },
    {
      "cell_type": "code",
      "source": [
        "prompt_parts = [\n",
        "  \"Você é um analista de dados especializado em categorizar estabelecimentos comerciais. Sua tarefa é analisar o nome do estabelecimento e classificá-lo na categoria mais adequada, fornecendo uma breve justificativa baseada em padrões e palavras-chave relevantes. Se a categoria for ambígua, utilize \\\"SEM CATEGORIA\\\".\",\n",
        "  \"input: Null\",\n",
        "  \"output: Sem Categoria\",\n",
        "  \"output_justificativa Não foi possível categorizar\",\n",
        "  \"input: Julio Cesar Soares Da\",\n",
        "  \"output: Sem Categoria\",\n",
        "  \"output_justificativa Não foi possível categorizar\",\n",
        "  \"input: Andre Conrado Fer\",\n",
        "  \"output: Sem Categoria\",\n",
        "  \"output_justificativa Não foi possível categorizar\",\n",
        "  \"input: Dm*Udemy\",\n",
        "  \"output: Educação\",\n",
        "  \"output_justificativa Trata-se de um curso\",\n",
        "  \"input: Iso Radiologia Di\",\n",
        "  \"output: Saúde\",\n",
        "  \"output_justificativa Clínica de exames odontológicos\",\n",
        "  \"input: Clinica*Chammas Odont\",\n",
        "  \"output: Saúde\",\n",
        "  \"output_justificativa Clínica odontológica\",\n",
        "  \"input: Mp*Taxi\",\n",
        "  \"output: Transporte\",\n",
        "  \"output_justificativa Corrida de taxi\",\n",
        "  \"input: Metro Rj\",\n",
        "  \"output: Transporte\",\n",
        "  \"output_justificativa Metro\",\n",
        "  \"input: Uber\",\n",
        "  \"output: Transporte\",\n",
        "  \"output_justificativa Uber\",\n",
        "  \"input: Beleza Na Web\",\n",
        "  \"output: DermoCosmético\",\n",
        "  \"output_justificativa Loja de dermocosméticos\",\n",
        "  \"input: Sephora Dotcom\",\n",
        "  \"output: DermoCosmético\",\n",
        "  \"output_justificativa Perfumaria\",\n",
        "  \"input: Posto 011 - Vila Maria\",\n",
        "  \"output: Atividade Física\",\n",
        "  \"output_justificativa Esportes de areia\",\n",
        "  \"input: Bayard Esportes\",\n",
        "  \"output: Atividade Física\",\n",
        "  \"output_justificativa Loja de produtos de esporte\",\n",
        "  \"input: Totalpass\",\n",
        "  \"output: Atividade Física\",\n",
        "  \"output_justificativa Academia/Musculação\",\n",
        "  \"input: Daki\",\n",
        "  \"output: Mercado\",\n",
        "  \"output_justificativa Mercado\",\n",
        "  \"input: Master Supermercados\",\n",
        "  \"output: Mercado\",\n",
        "  \"output_justificativa Supermercado\",\n",
        "  \"input: Carrefour Epl\",\n",
        "  \"output: Mercado\",\n",
        "  \"output_justificativa Supermercado\",\n",
        "  \"input: Apple.Com/Bill\",\n",
        "  \"output: Serviços\",\n",
        "  \"output_justificativa Pagamento do icloud\",\n",
        "  \"input: Mp*Manicure10\",\n",
        "  \"output: Serviços\",\n",
        "  \"output_justificativa Serviço de manicure\",\n",
        "  \"input: Vitor Pimenta Matos 499\",\n",
        "  \"output: Serviços\",\n",
        "  \"output_justificativa Serviço de barbearia\",\n",
        "  \"input: John John\",\n",
        "  \"output: Vestuário\",\n",
        "  \"output_justificativa Loja de roupas\",\n",
        "  \"input: Mash Online\",\n",
        "  \"output: Vestuário\",\n",
        "  \"output_justificativa Lojas de cuecas\",\n",
        "  \"input: Amazon Br\",\n",
        "  \"output: Compras\",\n",
        "  \"output_justificativa Lojas de produtos eletrônicos e diversos\",\n",
        "  \"input: Casasbahia\",\n",
        "  \"output: Compras\",\n",
        "  \"output_justificativa Lojas de produtos eletrônicos e móveis\",\n",
        "  \"input: Koni Brasilia Sho\",\n",
        "  \"output: Viagem\",\n",
        "  \"output_justificativa Lanchonete em Brasília\",\n",
        "  \"input: Braseiro Da Gavea\",\n",
        "  \"output: Viagem\",\n",
        "  \"output_justificativa Restaurante no Rio de Janeiro\",\n",
        "  \"input: Viacao Aguia Branca S.A.\",\n",
        "  \"output: Viagem\",\n",
        "  \"output_justificativa Passagem rodoviária\",\n",
        "  \"input: Booking.Com Brasil Servic\",\n",
        "  \"output: Viagem\",\n",
        "  \"output_justificativa Hospedagem\",\n",
        "  \"input: Ms Live Eventos E Consu\",\n",
        "  \"output: Entretenimento\",\n",
        "  \"output_justificativa Evento\",\n",
        "  \"input: Jerome Bar Ltda\",\n",
        "  \"output: Entretenimento\",\n",
        "  \"output_justificativa Balada\",\n",
        "  \"input: Zp     *Sympla 5mpa0q\",\n",
        "  \"output: Entretenimento\",\n",
        "  \"output_justificativa Ingresso\",\n",
        "  \"input: Aue Bar E Restaurante\",\n",
        "  \"output: Entretenimento\",\n",
        "  \"output_justificativa Bar\",\n",
        "  \"input: Funilaria Bixiga\",\n",
        "  \"output: Entretenimento\",\n",
        "  \"output_justificativa Samba\",\n",
        "  \"input: Sesc Pompeia\",\n",
        "  \"output: Entretenimento\",\n",
        "  \"output_justificativa Show\",\n",
        "  \"input: Margherita Pizzeria\",\n",
        "  \"output: Alimentação\",\n",
        "  \"output_justificativa Pizzaria\",\n",
        "  \"input: Macaxeira\",\n",
        "  \"output: Alimentação\",\n",
        "  \"output_justificativa Restaurante\",\n",
        "  \"input: Cafe E Lanchonete Miyas\",\n",
        "  \"output: Alimentação\",\n",
        "  \"output_justificativa Cafeteria\",\n",
        "  \"input: Perola Da Vila Mariana\",\n",
        "  \"output: Alimentação\",\n",
        "  \"output_justificativa Padaria\",\n",
        "  \"input: Brigaderia Da Vovo\",\n",
        "  \"output: Alimentação\",\n",
        "  \"output_justificativa Doceria\",\n",
        "  \"input: Ifood\",\n",
        "  \"output: Alimentação\",\n",
        "  \"output_justificativa Compra app ifood\",\n",
        "]"
      ],
      "metadata": {
        "id": "y-rMNv4glzwQ"
      },
      "execution_count": 76,
      "outputs": []
    },
    {
      "cell_type": "code",
      "source": [
        "# Função para formatar o prompt a partir de prompt_parts e novos inputs (inalterada)\n",
        "def format_prompt_with_new_inputs(prompt_parts, new_inputs):\n",
        "    prompt = \"\\n\".join(prompt_parts)\n",
        "    for input_text in new_inputs:\n",
        "        prompt += f\"\\ninput: {input_text}\"\n",
        "        # Imprime a entrada do estabelecimento\n",
        "        print(f\"input: {input_text}\")\n",
        "    return prompt\n",
        "\n",
        "# Recebe os nomes dos estabelecimentos (uma única vez)\n",
        "new_inputs = input(\"Digite os nomes dos estabelecimentos (separados por vírgula): \").split(\",\")\n",
        "\n",
        "# Formatação do prompt com os novos inputs\n",
        "prompt = format_prompt_with_new_inputs(prompt_parts, new_inputs)\n",
        "\n",
        "# Geração de conteúdo (com tratamento de erros)\n",
        "@retry.Retry()\n",
        "def generate_with_retry(prompt):\n",
        "    response = model.generate_content(prompt)\n",
        "    return response\n",
        "\n",
        "response = generate_with_retry(prompt)\n",
        "\n",
        "\n",
        "# Processamento da resposta (formato detalhado com tratamento de erros e formato inconsistente)\n",
        "if response.candidates:\n",
        "    for candidate in response.candidates:\n",
        "        text_parts = candidate.content.parts[0].text.split(\"\\n\")\n",
        "        print(text_parts)  # Imprime o conteúdo de text_parts para análise\n",
        "\n",
        "        i = 0\n",
        "        while i < len(text_parts):\n",
        "            if text_parts[i].startswith(\"input:\"):\n",
        "                estabelecimento = text_parts[i].split(\": \")[1]\n",
        "                categoria = \"Sem Categoria\"\n",
        "                justificativa = \"Justificativa não fornecida\"\n",
        "\n",
        "                # Procura pelas linhas \"output:\" e \"output_justificativa:\"\n",
        "                while i + 1 < len(text_parts) and not text_parts[i + 1].startswith(\"input:\"):\n",
        "                    if text_parts[i + 1].startswith(\"output:\"):\n",
        "                        categoria = text_parts[i + 1].split(\": \")[1]\n",
        "                    elif text_parts[i + 1].startswith(\"output_justificativa:\"):\n",
        "                        justificativa = text_parts[i + 1].split(\": \")[1]\n",
        "                    i += 1\n",
        "\n",
        "                print(f\"input: {estabelecimento}\")\n",
        "                print(f\"output: {categoria}\")\n",
        "                print(f\"output_justificativa: {justificativa}\")\n",
        "                i += 1  # Avança para a próxima linha\n",
        "            else:\n",
        "                i += 1\n",
        "else:\n",
        "    print(\"Nenhuma resposta gerada.\")\n",
        "\n"
      ],
      "metadata": {
        "colab": {
          "base_uri": "https://localhost:8080/",
          "height": 126
        },
        "id": "ZA_RyqFh_3SU",
        "outputId": "45978819-dfc0-4fe6-a9b5-7af8b1ca51b1"
      },
      "execution_count": 72,
      "outputs": [
        {
          "output_type": "stream",
          "name": "stdout",
          "text": [
            "Digite os nomes dos estabelecimentos (separados por vírgula): uber, ifood, hopital santa maria\n",
            "input: uber\n",
            "input:  ifood\n",
            "input:  hopital santa maria\n",
            "['output: Transporte', 'output_justificativa Corrida de taxi', 'output: Alimentação', 'output_justificativa Compra app ifood', 'output: Saúde', 'output_justificativa Hospital']\n"
          ]
        }
      ]
    }
  ]
}